{
 "cells": [
  {
   "cell_type": "code",
   "execution_count": null,
   "metadata": {},
   "outputs": [],
   "source": [
    "import cv2\n",
    "\n",
    "## Callback function Rectangle\n",
    "\n",
    "def draw_rec(event,x,y,flags,param):\n",
    "    global pt1, pt2, topLeft_clicked, botRight_clicked\n",
    "    \n",
    "    if event == cv2.EVENT_LBUTTONDOWN:\n",
    "        \n",
    "        # it reset the rectange\n",
    "        if topLeft_clicked and botRight_clicked:\n",
    "            pt1= (0,0)\n",
    "            pt2= (0,0)\n",
    "            topLeft_clicked = False\n",
    "            botRight_clicked = False\n",
    "            \n",
    "        if topLeft_clicked == False:\n",
    "            pt1 = (x,y)\n",
    "            topLeft_clicked = True\n",
    "        elif botRight_clicked == False:\n",
    "            pt2 = (x,y)\n",
    "            botRight_clicked = True\n",
    "\n",
    "## Global Variables\n",
    "\n",
    "pt1= (0,0)\n",
    "pt2= (0,0)\n",
    "topLeft_clicked = False\n",
    "botRight_clicked = False\n",
    "\n",
    "# Connect to the Callback\n",
    "\n",
    "cap = cv2.VideoCapture(0)\n",
    "cv2.namedWindow('dynamic_drawing')\n",
    "cv2.setMouseCallback('dynamic_drawing', draw_rec)\n",
    "\n",
    "while True:\n",
    "    ret,frame = cap.read();\n",
    "    \n",
    "    if topLeft_clicked:\n",
    "        cv2.circle(frame, center=pt1, radius=5, color=(0,0,255), thickness=-1)\n",
    "    \n",
    "    if topLeft_clicked and botRight_clicked:\n",
    "        cv2.rectangle(frame, pt1, pt2, (255,0,0), 4)\n",
    "    \n",
    "    cv2.imshow('dynamic_drawing', frame)\n",
    "    \n",
    "    if cv2.waitKey(1) & 0xff == ord('q'):\n",
    "        break\n",
    "\n",
    "cap.release()\n",
    "cv2.destroyAllWindows()"
   ]
  }
 ],
 "metadata": {
  "kernelspec": {
   "display_name": "Python 3",
   "language": "python",
   "name": "python3"
  },
  "language_info": {
   "codemirror_mode": {
    "name": "ipython",
    "version": 3
   },
   "file_extension": ".py",
   "mimetype": "text/x-python",
   "name": "python",
   "nbconvert_exporter": "python",
   "pygments_lexer": "ipython3",
   "version": "3.6.6"
  }
 },
 "nbformat": 4,
 "nbformat_minor": 2
}
